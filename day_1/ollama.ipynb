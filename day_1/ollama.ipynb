{
 "cells": [
  {
   "cell_type": "code",
   "execution_count": 19,
   "id": "6dce0d6f-3493-420a-8dec-69fb8ac4f2af",
   "metadata": {},
   "outputs": [],
   "source": [
    "prompt = \"\"\"\n",
    "- Which role of the teacher would answer the following question better?\n",
    "- The answer should be either 'math teacher' or 'history teacher' with no additional words.\n",
    "\n",
    "Case 1\n",
    "Question : what is the Newton’s law?\n",
    "Answer : math teacher\n",
    "\n",
    "Case 2 \n",
    "Question : How did World War I end?\n",
    "Answer : history teacher\n",
    "\n",
    "Question : \n",
    "\"\"\"\n"
   ]
  },
  {
   "cell_type": "code",
   "execution_count": 25,
   "id": "74c1ade9-89cb-490c-985b-f3ef0d369f9b",
   "metadata": {},
   "outputs": [
    {
     "name": "stdout",
     "output_type": "stream",
     "text": [
      "Math teacher\n",
      "History teacher\n"
     ]
    }
   ],
   "source": [
    "import requests\n",
    "import json\n",
    "\n",
    "def send_chat_request(model, message_content):\n",
    "    url = 'http://localhost:11434/api/chat'\n",
    "    payload = {\n",
    "        \"model\": model,\n",
    "        \"messages\": [\n",
    "            { \"role\": \"user\", \"content\": message_content }\n",
    "        ]\n",
    "    }\n",
    "\n",
    "    response = requests.post(url, json=payload)\n",
    "    \n",
    "    response_lines = response.text.split('\\n')\n",
    "    contents = []\n",
    "    \n",
    "    for line in response_lines:\n",
    "        if line.strip(): \n",
    "            try:\n",
    "                message = json.loads(line)\n",
    "                contents.append(message['message']['content'])\n",
    "            except json.JSONDecodeError:\n",
    "                print(f\"Failed to decode JSON: {line}\")\n",
    "            except KeyError:\n",
    "                print(f\"Key error in line: {line}\")\n",
    "    \n",
    "    concatenated_content = ''.join(contents)\n",
    "    return concatenated_content\n",
    "\n",
    "def make_question(question):\n",
    "    return prompt + question\n",
    "\n",
    "llama3 = \"llama3\"\n",
    "question_1 = make_question(\"What is the Pythagorean theorem?\")\n",
    "question_2 = make_question(\"What were the main causes of the French Revolution?\")\n",
    "\n",
    "llama_answer_1 = send_chat_request(llama3, question_1)\n",
    "llama_answer_2 = send_chat_request(llama3, question_2)\n",
    "print(llama_answer_1)\n",
    "print(llama_answer_2)"
   ]
  },
  {
   "cell_type": "code",
   "execution_count": 26,
   "id": "a379cef1-626e-44f9-827a-f274c3a555e6",
   "metadata": {},
   "outputs": [
    {
     "name": "stdout",
     "output_type": "stream",
     "text": [
      "Math teacher\n",
      "History teacher\n"
     ]
    }
   ],
   "source": [
    "phi3 = \"phi3\"\n",
    "phi3_answer_1 = send_chat_request(llama3, question_1)\n",
    "phi3_answer_2 = send_chat_request(llama3, question_2)\n",
    "print(phi3_answer_1)\n",
    "print(phi3_answer_2)"
   ]
  },
  {
   "cell_type": "code",
   "execution_count": 36,
   "id": "2208d4f4-c8e5-4450-9a1d-9746f591dc71",
   "metadata": {},
   "outputs": [
    {
     "name": "stdout",
     "output_type": "stream",
     "text": [
      "Prompt 1:\n",
      "Prompt Text: Please sort the following list of numbers in ascending order. List: [5, 3, 8, 1]\n",
      "Success Count: 5/5\n",
      "Success Rate: 100.0%\n",
      "\n",
      "Prompt 2:\n",
      "Prompt Text: Sort the following numbers in ascending order. Example: [4, 2, 9, 7] -> [2, 4, 7, 9] List: [5, 3, 8, 1]\n",
      "Success Count: 5/5\n",
      "Success Rate: 100.0%\n",
      "\n",
      "Prompt 3:\n",
      "Prompt Text: Here is how to sort numbers in ascending order:\n",
      "1. Select the first element of the list.\n",
      "2. Compare it with the remaining elements.\n",
      "3. Place the smaller elements before it.\n",
      "4. Repeat the process.\n",
      "\n",
      "Now, sort the following list: [5, 3, 8, 1]\n",
      "Success Count: 5/5\n",
      "Success Rate: 100.0%\n",
      "\n"
     ]
    }
   ],
   "source": [
    "def parse_response(s):\n",
    "    s = s.strip('[]')\n",
    "    number_strings = s.split(',')\n",
    "\n",
    "    number_list = [int(num.strip()) for num in number_strings]\n",
    "\n",
    "    return number_list\n",
    "\n",
    "prompts = [\n",
    "    \"Please sort the following list of numbers in ascending order. List: [5, 3, 8, 1]\",\n",
    "    \"Sort the following numbers in ascending order. Example: [4, 2, 9, 7] -> [2, 4, 7, 9] List: [5, 3, 8, 1]\",\n",
    "    \"Here is how to sort numbers in ascending order:\\n1. Select the first element of the list.\\n2. Compare it with the remaining elements.\\n3. Place the smaller elements before it.\\n4. Repeat the process.\\n\\nNow, sort the following list: [5, 3, 8, 1]\"\n",
    "]\n",
    "\n",
    "test_cases = [\n",
    "    ([5, 3, 8, 1], [1, 3, 5, 8]),\n",
    "    ([2, 1, 4, 3], [1, 2, 3, 4]),\n",
    "    ([10, 9, 8, 7], [7, 8, 9, 10]),\n",
    "    ([3, 6, 2, 7], [2, 3, 6, 7]),\n",
    "    ([1, 5, 3, 2], [1, 2, 3, 5])\n",
    "]\n",
    "\n",
    "model = \"llama3\"\n",
    "\n",
    "results = []\n",
    "for prompt in prompts:\n",
    "    success_count = 0\n",
    "    for input_list, expected_output in test_cases:\n",
    "        prompt_with_list = \"- The answer should be number list format with no additional words. (example answer : [1, 2, 3, 4]\\n\" + prompt.replace(\"[5, 3, 8, 1]\", str(input_list))\n",
    "        response_text = send_chat_request(model, prompt_with_list)\n",
    "        sorted_list = parse_response(response_text)\n",
    "        if sorted_list == expected_output:\n",
    "            success_count += 1\n",
    "    success_rate = success_count / len(test_cases) * 100\n",
    "    results.append((prompt, success_count, success_rate))\n",
    "\n",
    "# Print the results\n",
    "for idx, (prompt, success_count, success_rate) in enumerate(results):\n",
    "    print(f\"Prompt {idx + 1}:\")\n",
    "    print(f\"Prompt Text: {prompt}\")\n",
    "    print(f\"Success Count: {success_count}/{len(test_cases)}\")\n",
    "    print(f\"Success Rate: {success_rate}%\")\n",
    "    print()"
   ]
  },
  {
   "cell_type": "code",
   "execution_count": null,
   "id": "213e19ca-d484-40a2-b765-7c5703e6d419",
   "metadata": {},
   "outputs": [],
   "source": []
  }
 ],
 "metadata": {
  "kernelspec": {
   "display_name": "Python 3 (ipykernel)",
   "language": "python",
   "name": "python3"
  },
  "language_info": {
   "codemirror_mode": {
    "name": "ipython",
    "version": 3
   },
   "file_extension": ".py",
   "mimetype": "text/x-python",
   "name": "python",
   "nbconvert_exporter": "python",
   "pygments_lexer": "ipython3",
   "version": "3.9.18"
  }
 },
 "nbformat": 4,
 "nbformat_minor": 5
}
