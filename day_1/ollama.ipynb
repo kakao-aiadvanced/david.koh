{
 "cells": [
  {
   "cell_type": "code",
   "execution_count": 19,
   "id": "6dce0d6f-3493-420a-8dec-69fb8ac4f2af",
   "metadata": {},
   "outputs": [],
   "source": [
    "prompt = \"\"\"\n",
    "- Which role of the teacher would answer the following question better?\n",
    "- The answer should be either 'math teacher' or 'history teacher' with no additional words.\n",
    "\n",
    "Case 1\n",
    "Question : what is the Newton’s law?\n",
    "Answer : math teacher\n",
    "\n",
    "Case 2 \n",
    "Question : How did World War I end?\n",
    "Answer : history teacher\n",
    "\n",
    "Question : \n",
    "\"\"\"\n"
   ]
  },
  {
   "cell_type": "code",
   "execution_count": 25,
   "id": "74c1ade9-89cb-490c-985b-f3ef0d369f9b",
   "metadata": {},
   "outputs": [
    {
     "name": "stdout",
     "output_type": "stream",
     "text": [
      "Math teacher\n",
      "History teacher\n"
     ]
    }
   ],
   "source": [
    "import requests\n",
    "import json\n",
    "\n",
    "def send_chat_request(model, message_content):\n",
    "    url = 'http://localhost:11434/api/chat'\n",
    "    payload = {\n",
    "        \"model\": model,\n",
    "        \"messages\": [\n",
    "            { \"role\": \"user\", \"content\": message_content }\n",
    "        ]\n",
    "    }\n",
    "\n",
    "    response = requests.post(url, json=payload)\n",
    "    \n",
    "    response_lines = response.text.split('\\n')\n",
    "    contents = []\n",
    "    \n",
    "    for line in response_lines:\n",
    "        if line.strip(): \n",
    "            try:\n",
    "                message = json.loads(line)\n",
    "                contents.append(message['message']['content'])\n",
    "            except json.JSONDecodeError:\n",
    "                print(f\"Failed to decode JSON: {line}\")\n",
    "            except KeyError:\n",
    "                print(f\"Key error in line: {line}\")\n",
    "    \n",
    "    concatenated_content = ''.join(contents)\n",
    "    return concatenated_content\n",
    "\n",
    "def make_question(question):\n",
    "    return prompt + question\n",
    "\n",
    "llama3 = \"llama3\"\n",
    "question_1 = make_question(\"What is the Pythagorean theorem?\")\n",
    "question_2 = make_question(\"What were the main causes of the French Revolution?\")\n",
    "\n",
    "llama_answer_1 = send_chat_request(llama3, question_1)\n",
    "llama_answer_2 = send_chat_request(llama3, question_2)\n",
    "print(llama_answer_1)\n",
    "print(llama_answer_2)"
   ]
  },
  {
   "cell_type": "code",
   "execution_count": 26,
   "id": "a379cef1-626e-44f9-827a-f274c3a555e6",
   "metadata": {},
   "outputs": [
    {
     "name": "stdout",
     "output_type": "stream",
     "text": [
      "Math teacher\n",
      "History teacher\n"
     ]
    }
   ],
   "source": [
    "phi3 = \"phi3\"\n",
    "phi3_answer_1 = send_chat_request(llama3, question_1)\n",
    "phi3_answer_2 = send_chat_request(llama3, question_2)\n",
    "print(phi3_answer_1)\n",
    "print(phi3_answer_2)"
   ]
  },
  {
   "cell_type": "code",
   "execution_count": null,
   "id": "2208d4f4-c8e5-4450-9a1d-9746f591dc71",
   "metadata": {},
   "outputs": [],
   "source": []
  }
 ],
 "metadata": {
  "kernelspec": {
   "display_name": "Python 3 (ipykernel)",
   "language": "python",
   "name": "python3"
  },
  "language_info": {
   "codemirror_mode": {
    "name": "ipython",
    "version": 3
   },
   "file_extension": ".py",
   "mimetype": "text/x-python",
   "name": "python",
   "nbconvert_exporter": "python",
   "pygments_lexer": "ipython3",
   "version": "3.9.18"
  }
 },
 "nbformat": 4,
 "nbformat_minor": 5
}
